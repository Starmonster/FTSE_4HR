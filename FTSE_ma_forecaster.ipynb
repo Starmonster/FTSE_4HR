{
 "cells": [
  {
   "cell_type": "markdown",
   "metadata": {},
   "source": [
    "# FTSE 100 Double Tap Back Test\n",
    "\n",
    "In this notebook will carry out time series analysis using different moving averages to forecast the ftse 100 price. We'll be using the 4hr timeframe for this project, and we'll be attemptime to forecast the closing price.  "
   ]
  },
  {
   "cell_type": "code",
   "execution_count": 1,
   "metadata": {},
   "outputs": [],
   "source": [
    "#import libraries\n",
    "\n",
    "import pandas as pd\n",
    "import datetime as dt\n",
    "import numpy as np\n",
    "import warnings\n",
    "warnings.filterwarnings('ignore')\n"
   ]
  },
  {
   "cell_type": "code",
   "execution_count": 2,
   "metadata": {},
   "outputs": [],
   "source": [
    "import matplotlib.pyplot as plt\n",
    "\n",
    "from sklearn.linear_model import LinearRegression\n",
    "from sklearn.metrics import accuracy_score, r2_score\n",
    "from sklearn.model_selection import train_test_split"
   ]
  },
  {
   "cell_type": "code",
   "execution_count": 3,
   "metadata": {},
   "outputs": [],
   "source": [
    "plt.style.use('fivethirtyeight')"
   ]
  },
  {
   "cell_type": "code",
   "execution_count": 4,
   "metadata": {},
   "outputs": [
    {
     "name": "stdout",
     "output_type": "stream",
     "text": [
      "FTSE4 Data Prep.ipynb    FTSE_ma_forecaster.ipynb\r\n",
      "FTSE4.csv                ftse_base4.csv\r\n"
     ]
    }
   ],
   "source": [
    "!ls\n"
   ]
  },
  {
   "cell_type": "markdown",
   "metadata": {},
   "source": [
    "## Read in and review data"
   ]
  },
  {
   "cell_type": "code",
   "execution_count": 5,
   "metadata": {},
   "outputs": [],
   "source": [
    "ftse = pd.read_csv(\"ftse_base4.csv\", parse_dates=['time'])"
   ]
  },
  {
   "cell_type": "code",
   "execution_count": 6,
   "metadata": {},
   "outputs": [
    {
     "data": {
      "text/html": [
       "<div>\n",
       "<style scoped>\n",
       "    .dataframe tbody tr th:only-of-type {\n",
       "        vertical-align: middle;\n",
       "    }\n",
       "\n",
       "    .dataframe tbody tr th {\n",
       "        vertical-align: top;\n",
       "    }\n",
       "\n",
       "    .dataframe thead th {\n",
       "        text-align: right;\n",
       "    }\n",
       "</style>\n",
       "<table border=\"1\" class=\"dataframe\">\n",
       "  <thead>\n",
       "    <tr style=\"text-align: right;\">\n",
       "      <th></th>\n",
       "      <th>time</th>\n",
       "      <th>open</th>\n",
       "      <th>high</th>\n",
       "      <th>low</th>\n",
       "      <th>close</th>\n",
       "    </tr>\n",
       "  </thead>\n",
       "  <tbody>\n",
       "    <tr>\n",
       "      <th>0</th>\n",
       "      <td>2020-04-23 11:00:00</td>\n",
       "      <td>5770.0</td>\n",
       "      <td>5822.0</td>\n",
       "      <td>5755.6</td>\n",
       "      <td>5798.1</td>\n",
       "    </tr>\n",
       "    <tr>\n",
       "      <th>1</th>\n",
       "      <td>2020-04-23 15:00:00</td>\n",
       "      <td>5797.9</td>\n",
       "      <td>5847.9</td>\n",
       "      <td>5762.1</td>\n",
       "      <td>5773.2</td>\n",
       "    </tr>\n",
       "    <tr>\n",
       "      <th>2</th>\n",
       "      <td>2020-04-23 19:00:00</td>\n",
       "      <td>5773.2</td>\n",
       "      <td>5796.8</td>\n",
       "      <td>5744.1</td>\n",
       "      <td>5769.5</td>\n",
       "    </tr>\n",
       "    <tr>\n",
       "      <th>3</th>\n",
       "      <td>2020-04-23 23:00:00</td>\n",
       "      <td>5756.8</td>\n",
       "      <td>5770.2</td>\n",
       "      <td>5731.6</td>\n",
       "      <td>5740.2</td>\n",
       "    </tr>\n",
       "    <tr>\n",
       "      <th>4</th>\n",
       "      <td>2020-04-24 03:00:00</td>\n",
       "      <td>5740.0</td>\n",
       "      <td>5755.0</td>\n",
       "      <td>5720.3</td>\n",
       "      <td>5744.3</td>\n",
       "    </tr>\n",
       "  </tbody>\n",
       "</table>\n",
       "</div>"
      ],
      "text/plain": [
       "                 time    open    high     low   close\n",
       "0 2020-04-23 11:00:00  5770.0  5822.0  5755.6  5798.1\n",
       "1 2020-04-23 15:00:00  5797.9  5847.9  5762.1  5773.2\n",
       "2 2020-04-23 19:00:00  5773.2  5796.8  5744.1  5769.5\n",
       "3 2020-04-23 23:00:00  5756.8  5770.2  5731.6  5740.2\n",
       "4 2020-04-24 03:00:00  5740.0  5755.0  5720.3  5744.3"
      ]
     },
     "execution_count": 6,
     "metadata": {},
     "output_type": "execute_result"
    }
   ],
   "source": [
    "ftse.head()"
   ]
  },
  {
   "cell_type": "code",
   "execution_count": 7,
   "metadata": {},
   "outputs": [
    {
     "name": "stdout",
     "output_type": "stream",
     "text": [
      "<class 'pandas.core.frame.DataFrame'>\n",
      "RangeIndex: 663 entries, 0 to 662\n",
      "Data columns (total 5 columns):\n",
      " #   Column  Non-Null Count  Dtype         \n",
      "---  ------  --------------  -----         \n",
      " 0   time    663 non-null    datetime64[ns]\n",
      " 1   open    663 non-null    float64       \n",
      " 2   high    663 non-null    float64       \n",
      " 3   low     663 non-null    float64       \n",
      " 4   close   663 non-null    float64       \n",
      "dtypes: datetime64[ns](1), float64(4)\n",
      "memory usage: 26.0 KB\n"
     ]
    }
   ],
   "source": [
    "ftse.info()"
   ]
  },
  {
   "cell_type": "code",
   "execution_count": 8,
   "metadata": {},
   "outputs": [],
   "source": [
    "#Initially let's split out the datetime into some component parts\n",
    "ftse['date'] = ftse.apply(lambda row : row.time.date(), axis = 1)\n",
    "ftse['time_24h'] = ftse.apply(lambda row : row.time.time(), axis=1)"
   ]
  },
  {
   "cell_type": "code",
   "execution_count": 9,
   "metadata": {},
   "outputs": [
    {
     "data": {
      "text/html": [
       "<div>\n",
       "<style scoped>\n",
       "    .dataframe tbody tr th:only-of-type {\n",
       "        vertical-align: middle;\n",
       "    }\n",
       "\n",
       "    .dataframe tbody tr th {\n",
       "        vertical-align: top;\n",
       "    }\n",
       "\n",
       "    .dataframe thead th {\n",
       "        text-align: right;\n",
       "    }\n",
       "</style>\n",
       "<table border=\"1\" class=\"dataframe\">\n",
       "  <thead>\n",
       "    <tr style=\"text-align: right;\">\n",
       "      <th></th>\n",
       "      <th>time</th>\n",
       "      <th>open</th>\n",
       "      <th>high</th>\n",
       "      <th>low</th>\n",
       "      <th>close</th>\n",
       "      <th>date</th>\n",
       "      <th>time_24h</th>\n",
       "    </tr>\n",
       "  </thead>\n",
       "  <tbody>\n",
       "    <tr>\n",
       "      <th>0</th>\n",
       "      <td>2020-04-23 11:00:00</td>\n",
       "      <td>5770.0</td>\n",
       "      <td>5822.0</td>\n",
       "      <td>5755.6</td>\n",
       "      <td>5798.1</td>\n",
       "      <td>2020-04-23</td>\n",
       "      <td>11:00:00</td>\n",
       "    </tr>\n",
       "    <tr>\n",
       "      <th>1</th>\n",
       "      <td>2020-04-23 15:00:00</td>\n",
       "      <td>5797.9</td>\n",
       "      <td>5847.9</td>\n",
       "      <td>5762.1</td>\n",
       "      <td>5773.2</td>\n",
       "      <td>2020-04-23</td>\n",
       "      <td>15:00:00</td>\n",
       "    </tr>\n",
       "    <tr>\n",
       "      <th>2</th>\n",
       "      <td>2020-04-23 19:00:00</td>\n",
       "      <td>5773.2</td>\n",
       "      <td>5796.8</td>\n",
       "      <td>5744.1</td>\n",
       "      <td>5769.5</td>\n",
       "      <td>2020-04-23</td>\n",
       "      <td>19:00:00</td>\n",
       "    </tr>\n",
       "    <tr>\n",
       "      <th>3</th>\n",
       "      <td>2020-04-23 23:00:00</td>\n",
       "      <td>5756.8</td>\n",
       "      <td>5770.2</td>\n",
       "      <td>5731.6</td>\n",
       "      <td>5740.2</td>\n",
       "      <td>2020-04-23</td>\n",
       "      <td>23:00:00</td>\n",
       "    </tr>\n",
       "    <tr>\n",
       "      <th>4</th>\n",
       "      <td>2020-04-24 03:00:00</td>\n",
       "      <td>5740.0</td>\n",
       "      <td>5755.0</td>\n",
       "      <td>5720.3</td>\n",
       "      <td>5744.3</td>\n",
       "      <td>2020-04-24</td>\n",
       "      <td>03:00:00</td>\n",
       "    </tr>\n",
       "  </tbody>\n",
       "</table>\n",
       "</div>"
      ],
      "text/plain": [
       "                 time    open    high     low   close        date  time_24h\n",
       "0 2020-04-23 11:00:00  5770.0  5822.0  5755.6  5798.1  2020-04-23  11:00:00\n",
       "1 2020-04-23 15:00:00  5797.9  5847.9  5762.1  5773.2  2020-04-23  15:00:00\n",
       "2 2020-04-23 19:00:00  5773.2  5796.8  5744.1  5769.5  2020-04-23  19:00:00\n",
       "3 2020-04-23 23:00:00  5756.8  5770.2  5731.6  5740.2  2020-04-23  23:00:00\n",
       "4 2020-04-24 03:00:00  5740.0  5755.0  5720.3  5744.3  2020-04-24  03:00:00"
      ]
     },
     "execution_count": 9,
     "metadata": {},
     "output_type": "execute_result"
    }
   ],
   "source": [
    "ftse.head()"
   ]
  },
  {
   "cell_type": "code",
   "execution_count": 10,
   "metadata": {},
   "outputs": [
    {
     "name": "stdout",
     "output_type": "stream",
     "text": [
      "<class 'pandas.core.frame.DataFrame'>\n",
      "RangeIndex: 663 entries, 0 to 662\n",
      "Data columns (total 7 columns):\n",
      " #   Column    Non-Null Count  Dtype         \n",
      "---  ------    --------------  -----         \n",
      " 0   time      663 non-null    datetime64[ns]\n",
      " 1   open      663 non-null    float64       \n",
      " 2   high      663 non-null    float64       \n",
      " 3   low       663 non-null    float64       \n",
      " 4   close     663 non-null    float64       \n",
      " 5   date      663 non-null    object        \n",
      " 6   time_24h  663 non-null    object        \n",
      "dtypes: datetime64[ns](1), float64(4), object(2)\n",
      "memory usage: 36.4+ KB\n"
     ]
    }
   ],
   "source": [
    "ftse.info()"
   ]
  },
  {
   "cell_type": "code",
   "execution_count": 11,
   "metadata": {},
   "outputs": [
    {
     "data": {
      "image/png": "[encoded data removed]",
      "text/plain": [
       "<Figure size 864x504 with 1 Axes>"
      ]
     },
     "metadata": {},
     "output_type": "display_data"
    }
   ],
   "source": [
    "#Visualise the ftse for the available period\n",
    "ftse.plot(y=\"close\", x='time', figsize=(12,7), linewidth=2)\n",
    "\n",
    "plt.ylabel(\"Daily Close Price\", fontsize=14)\n",
    "plt.xlabel(\"Time\", fontsize=14)\n",
    "plt.title(\"Chart to Show 4hr Closing Prices of the FTSE 100\")\n",
    "plt.show()"
   ]
  },
  {
   "cell_type": "markdown",
   "metadata": {},
   "source": [
    "## Create the moving averages"
   ]
  },
  {
   "cell_type": "code",
   "execution_count": 12,
   "metadata": {},
   "outputs": [],
   "source": [
    "ftse[\"ma3\"] = ftse['close'].shift(1).rolling(window=3).mean()\n",
    "ftse['ma9'] = ftse['close'].shift(1).rolling(window=9).mean()"
   ]
  },
  {
   "cell_type": "code",
   "execution_count": 13,
   "metadata": {},
   "outputs": [
    {
     "data": {
      "text/html": [
       "<div>\n",
       "<style scoped>\n",
       "    .dataframe tbody tr th:only-of-type {\n",
       "        vertical-align: middle;\n",
       "    }\n",
       "\n",
       "    .dataframe tbody tr th {\n",
       "        vertical-align: top;\n",
       "    }\n",
       "\n",
       "    .dataframe thead th {\n",
       "        text-align: right;\n",
       "    }\n",
       "</style>\n",
       "<table border=\"1\" class=\"dataframe\">\n",
       "  <thead>\n",
       "    <tr style=\"text-align: right;\">\n",
       "      <th></th>\n",
       "      <th>time</th>\n",
       "      <th>open</th>\n",
       "      <th>high</th>\n",
       "      <th>low</th>\n",
       "      <th>close</th>\n",
       "      <th>date</th>\n",
       "      <th>time_24h</th>\n",
       "      <th>ma3</th>\n",
       "      <th>ma9</th>\n",
       "    </tr>\n",
       "  </thead>\n",
       "  <tbody>\n",
       "    <tr>\n",
       "      <th>0</th>\n",
       "      <td>2020-04-23 11:00:00</td>\n",
       "      <td>5770.0</td>\n",
       "      <td>5822.0</td>\n",
       "      <td>5755.6</td>\n",
       "      <td>5798.1</td>\n",
       "      <td>2020-04-23</td>\n",
       "      <td>11:00:00</td>\n",
       "      <td>NaN</td>\n",
       "      <td>NaN</td>\n",
       "    </tr>\n",
       "    <tr>\n",
       "      <th>1</th>\n",
       "      <td>2020-04-23 15:00:00</td>\n",
       "      <td>5797.9</td>\n",
       "      <td>5847.9</td>\n",
       "      <td>5762.1</td>\n",
       "      <td>5773.2</td>\n",
       "      <td>2020-04-23</td>\n",
       "      <td>15:00:00</td>\n",
       "      <td>NaN</td>\n",
       "      <td>NaN</td>\n",
       "    </tr>\n",
       "    <tr>\n",
       "      <th>2</th>\n",
       "      <td>2020-04-23 19:00:00</td>\n",
       "      <td>5773.2</td>\n",
       "      <td>5796.8</td>\n",
       "      <td>5744.1</td>\n",
       "      <td>5769.5</td>\n",
       "      <td>2020-04-23</td>\n",
       "      <td>19:00:00</td>\n",
       "      <td>NaN</td>\n",
       "      <td>NaN</td>\n",
       "    </tr>\n",
       "    <tr>\n",
       "      <th>3</th>\n",
       "      <td>2020-04-23 23:00:00</td>\n",
       "      <td>5756.8</td>\n",
       "      <td>5770.2</td>\n",
       "      <td>5731.6</td>\n",
       "      <td>5740.2</td>\n",
       "      <td>2020-04-23</td>\n",
       "      <td>23:00:00</td>\n",
       "      <td>5780.266667</td>\n",
       "      <td>NaN</td>\n",
       "    </tr>\n",
       "    <tr>\n",
       "      <th>4</th>\n",
       "      <td>2020-04-24 03:00:00</td>\n",
       "      <td>5740.0</td>\n",
       "      <td>5755.0</td>\n",
       "      <td>5720.3</td>\n",
       "      <td>5744.3</td>\n",
       "      <td>2020-04-24</td>\n",
       "      <td>03:00:00</td>\n",
       "      <td>5760.966667</td>\n",
       "      <td>NaN</td>\n",
       "    </tr>\n",
       "  </tbody>\n",
       "</table>\n",
       "</div>"
      ],
      "text/plain": [
       "                 time    open    high     low   close        date  time_24h  \\\n",
       "0 2020-04-23 11:00:00  5770.0  5822.0  5755.6  5798.1  2020-04-23  11:00:00   \n",
       "1 2020-04-23 15:00:00  5797.9  5847.9  5762.1  5773.2  2020-04-23  15:00:00   \n",
       "2 2020-04-23 19:00:00  5773.2  5796.8  5744.1  5769.5  2020-04-23  19:00:00   \n",
       "3 2020-04-23 23:00:00  5756.8  5770.2  5731.6  5740.2  2020-04-23  23:00:00   \n",
       "4 2020-04-24 03:00:00  5740.0  5755.0  5720.3  5744.3  2020-04-24  03:00:00   \n",
       "\n",
       "           ma3  ma9  \n",
       "0          NaN  NaN  \n",
       "1          NaN  NaN  \n",
       "2          NaN  NaN  \n",
       "3  5780.266667  NaN  \n",
       "4  5760.966667  NaN  "
      ]
     },
     "execution_count": 13,
     "metadata": {},
     "output_type": "execute_result"
    }
   ],
   "source": [
    "ftse.head()\n",
    "#We've introduced the ma's but in doing so also created NaN values"
   ]
  },
  {
   "cell_type": "code",
   "execution_count": 14,
   "metadata": {},
   "outputs": [
    {
     "data": {
      "text/plain": [
       "time        0\n",
       "open        0\n",
       "high        0\n",
       "low         0\n",
       "close       0\n",
       "date        0\n",
       "time_24h    0\n",
       "ma3         3\n",
       "ma9         9\n",
       "dtype: int64"
      ]
     },
     "execution_count": 14,
     "metadata": {},
     "output_type": "execute_result"
    }
   ],
   "source": [
    "ftse.isna().sum()"
   ]
  },
  {
   "cell_type": "code",
   "execution_count": 15,
   "metadata": {},
   "outputs": [],
   "source": [
    "ftse.dropna(inplace=True)"
   ]
  },
  {
   "cell_type": "code",
   "execution_count": 16,
   "metadata": {},
   "outputs": [
    {
     "data": {
      "text/html": [
       "<div>\n",
       "<style scoped>\n",
       "    .dataframe tbody tr th:only-of-type {\n",
       "        vertical-align: middle;\n",
       "    }\n",
       "\n",
       "    .dataframe tbody tr th {\n",
       "        vertical-align: top;\n",
       "    }\n",
       "\n",
       "    .dataframe thead th {\n",
       "        text-align: right;\n",
       "    }\n",
       "</style>\n",
       "<table border=\"1\" class=\"dataframe\">\n",
       "  <thead>\n",
       "    <tr style=\"text-align: right;\">\n",
       "      <th></th>\n",
       "      <th>time</th>\n",
       "      <th>open</th>\n",
       "      <th>high</th>\n",
       "      <th>low</th>\n",
       "      <th>close</th>\n",
       "      <th>date</th>\n",
       "      <th>time_24h</th>\n",
       "      <th>ma3</th>\n",
       "      <th>ma9</th>\n",
       "    </tr>\n",
       "  </thead>\n",
       "  <tbody>\n",
       "    <tr>\n",
       "      <th>9</th>\n",
       "      <td>2020-04-26 23:00:00</td>\n",
       "      <td>5796.8</td>\n",
       "      <td>5824.3</td>\n",
       "      <td>5772.9</td>\n",
       "      <td>5819.8</td>\n",
       "      <td>2020-04-26</td>\n",
       "      <td>23:00:00</td>\n",
       "      <td>5788.033333</td>\n",
       "      <td>5774.200000</td>\n",
       "    </tr>\n",
       "    <tr>\n",
       "      <th>10</th>\n",
       "      <td>2020-04-27 03:00:00</td>\n",
       "      <td>5819.7</td>\n",
       "      <td>5859.9</td>\n",
       "      <td>5818.3</td>\n",
       "      <td>5848.0</td>\n",
       "      <td>2020-04-27</td>\n",
       "      <td>03:00:00</td>\n",
       "      <td>5802.733333</td>\n",
       "      <td>5776.611111</td>\n",
       "    </tr>\n",
       "    <tr>\n",
       "      <th>11</th>\n",
       "      <td>2020-04-27 07:00:00</td>\n",
       "      <td>5848.3</td>\n",
       "      <td>5859.2</td>\n",
       "      <td>5817.9</td>\n",
       "      <td>5850.0</td>\n",
       "      <td>2020-04-27</td>\n",
       "      <td>07:00:00</td>\n",
       "      <td>5821.200000</td>\n",
       "      <td>5784.922222</td>\n",
       "    </tr>\n",
       "    <tr>\n",
       "      <th>12</th>\n",
       "      <td>2020-04-27 11:00:00</td>\n",
       "      <td>5850.1</td>\n",
       "      <td>5854.6</td>\n",
       "      <td>5792.9</td>\n",
       "      <td>5806.6</td>\n",
       "      <td>2020-04-27</td>\n",
       "      <td>11:00:00</td>\n",
       "      <td>5839.266667</td>\n",
       "      <td>5793.866667</td>\n",
       "    </tr>\n",
       "    <tr>\n",
       "      <th>13</th>\n",
       "      <td>2020-04-27 15:00:00</td>\n",
       "      <td>5806.7</td>\n",
       "      <td>5854.1</td>\n",
       "      <td>5799.4</td>\n",
       "      <td>5845.1</td>\n",
       "      <td>2020-04-27</td>\n",
       "      <td>15:00:00</td>\n",
       "      <td>5834.866667</td>\n",
       "      <td>5801.244444</td>\n",
       "    </tr>\n",
       "  </tbody>\n",
       "</table>\n",
       "</div>"
      ],
      "text/plain": [
       "                  time    open    high     low   close        date  time_24h  \\\n",
       "9  2020-04-26 23:00:00  5796.8  5824.3  5772.9  5819.8  2020-04-26  23:00:00   \n",
       "10 2020-04-27 03:00:00  5819.7  5859.9  5818.3  5848.0  2020-04-27  03:00:00   \n",
       "11 2020-04-27 07:00:00  5848.3  5859.2  5817.9  5850.0  2020-04-27  07:00:00   \n",
       "12 2020-04-27 11:00:00  5850.1  5854.6  5792.9  5806.6  2020-04-27  11:00:00   \n",
       "13 2020-04-27 15:00:00  5806.7  5854.1  5799.4  5845.1  2020-04-27  15:00:00   \n",
       "\n",
       "            ma3          ma9  \n",
       "9   5788.033333  5774.200000  \n",
       "10  5802.733333  5776.611111  \n",
       "11  5821.200000  5784.922222  \n",
       "12  5839.266667  5793.866667  \n",
       "13  5834.866667  5801.244444  "
      ]
     },
     "execution_count": 16,
     "metadata": {},
     "output_type": "execute_result"
    }
   ],
   "source": [
    "ftse.head()"
   ]
  },
  {
   "cell_type": "markdown",
   "metadata": {},
   "source": [
    "## Split the data into dependent and target sets and train and test sets"
   ]
  },
  {
   "cell_type": "code",
   "execution_count": 17,
   "metadata": {},
   "outputs": [],
   "source": [
    "#create the dependent dataset\n",
    "X = ftse[['ma3', 'ma9']]\n",
    "\n",
    "#create the target feature\n",
    "y = ftse[\"close\"]"
   ]
  },
  {
   "cell_type": "code",
   "execution_count": 18,
   "metadata": {},
   "outputs": [],
   "source": [
    "#Split data into training and test sets with a ratio of 80/20\n",
    "X_train, X_test, y_train, y_test = train_test_split(X, y, test_size=0.2, random_state=42, shuffle=False)"
   ]
  },
  {
   "cell_type": "code",
   "execution_count": 19,
   "metadata": {},
   "outputs": [],
   "source": [
    "#Fit the model to the training data\n",
    "lr = LinearRegression().fit(X_train, y_train)"
   ]
  },
  {
   "cell_type": "code",
   "execution_count": 20,
   "metadata": {},
   "outputs": [],
   "source": [
    "#Predict our target values in the test set\n",
    "pred = lr.predict(X_test)"
   ]
  },
  {
   "cell_type": "code",
   "execution_count": 21,
   "metadata": {},
   "outputs": [],
   "source": [
    "#Create a dataframe feature of our newly predicted target feature values\n",
    "pred_data = pd.DataFrame(pred, index=y_test.index, columns=[\"predicted\"])"
   ]
  },
  {
   "cell_type": "code",
   "execution_count": 22,
   "metadata": {},
   "outputs": [
    {
     "data": {
      "text/html": [
       "<div>\n",
       "<style scoped>\n",
       "    .dataframe tbody tr th:only-of-type {\n",
       "        vertical-align: middle;\n",
       "    }\n",
       "\n",
       "    .dataframe tbody tr th {\n",
       "        vertical-align: top;\n",
       "    }\n",
       "\n",
       "    .dataframe thead th {\n",
       "        text-align: right;\n",
       "    }\n",
       "</style>\n",
       "<table border=\"1\" class=\"dataframe\">\n",
       "  <thead>\n",
       "    <tr style=\"text-align: right;\">\n",
       "      <th></th>\n",
       "      <th>predicted</th>\n",
       "    </tr>\n",
       "  </thead>\n",
       "  <tbody>\n",
       "    <tr>\n",
       "      <th>532</th>\n",
       "      <td>6038.246607</td>\n",
       "    </tr>\n",
       "    <tr>\n",
       "      <th>533</th>\n",
       "      <td>6041.805906</td>\n",
       "    </tr>\n",
       "    <tr>\n",
       "      <th>534</th>\n",
       "      <td>6027.328476</td>\n",
       "    </tr>\n",
       "    <tr>\n",
       "      <th>535</th>\n",
       "      <td>6021.225365</td>\n",
       "    </tr>\n",
       "    <tr>\n",
       "      <th>536</th>\n",
       "      <td>6008.003771</td>\n",
       "    </tr>\n",
       "  </tbody>\n",
       "</table>\n",
       "</div>"
      ],
      "text/plain": [
       "       predicted\n",
       "532  6038.246607\n",
       "533  6041.805906\n",
       "534  6027.328476\n",
       "535  6021.225365\n",
       "536  6008.003771"
      ]
     },
     "execution_count": 22,
     "metadata": {},
     "output_type": "execute_result"
    }
   ],
   "source": [
    "#review the predicted value data set\n",
    "pred_data.head()"
   ]
  },
  {
   "cell_type": "code",
   "execution_count": 23,
   "metadata": {},
   "outputs": [
    {
     "data": {
      "image/png": "[encoded data removed]",
      "text/plain": [
       "<Figure size 864x504 with 1 Axes>"
      ]
     },
     "metadata": {},
     "output_type": "display_data"
    }
   ],
   "source": [
    "#Let's plot the predicted against the actual values\n",
    "pred_data.plot(figsize=(12,7), linewidth=2, alpha=0.75)\n",
    "y_test.plot(linewidth=2, alpha=0.75)\n",
    "plt.ylabel(\"4hr Close Price\", fontsize=14)\n",
    "plt.xlabel(\"Time\", fontsize=14)\n",
    "plt.title(\"Chart to show predicted vs actual ftse 4hr closing price\", fontsize=18)\n",
    "plt.legend([\"Predicted\", \"Actual\"])\n",
    "plt.show()"
   ]
  },
  {
   "cell_type": "markdown",
   "metadata": {},
   "source": [
    "Looks like some semblance of accuracy here from reviewing the graph. Let's calculate our accuracy metrics. "
   ]
  },
  {
   "cell_type": "code",
   "execution_count": 24,
   "metadata": {},
   "outputs": [
    {
     "name": "stdout",
     "output_type": "stream",
     "text": [
      "Our r_square score is 0.766\n"
     ]
    }
   ],
   "source": [
    "#Check out the r_squared score to find out how accurate we've been\n",
    "print(f\"Our r_square score is {round(r2_score(y_test, pred), 3)}\")"
   ]
  },
  {
   "cell_type": "markdown",
   "metadata": {},
   "source": [
    "Ok not a terrible result. Our data set is relatively small, only 663 data points, so we could hunt out a bigger set. While we're doing that let's play with this and make some predictions over the next few days of real time data coming in from the ftse. "
   ]
  },
  {
   "cell_type": "code",
   "execution_count": 25,
   "metadata": {},
   "outputs": [],
   "source": [
    "y_test_df = y_test.to_frame()"
   ]
  },
  {
   "cell_type": "code",
   "execution_count": 26,
   "metadata": {},
   "outputs": [],
   "source": [
    "actual_vs_pred = y_test_df.join(pred_data)"
   ]
  },
  {
   "cell_type": "code",
   "execution_count": 27,
   "metadata": {},
   "outputs": [
    {
     "data": {
      "text/html": [
       "<div>\n",
       "<style scoped>\n",
       "    .dataframe tbody tr th:only-of-type {\n",
       "        vertical-align: middle;\n",
       "    }\n",
       "\n",
       "    .dataframe tbody tr th {\n",
       "        vertical-align: top;\n",
       "    }\n",
       "\n",
       "    .dataframe thead th {\n",
       "        text-align: right;\n",
       "    }\n",
       "</style>\n",
       "<table border=\"1\" class=\"dataframe\">\n",
       "  <thead>\n",
       "    <tr style=\"text-align: right;\">\n",
       "      <th></th>\n",
       "      <th>close</th>\n",
       "      <th>predicted</th>\n",
       "    </tr>\n",
       "  </thead>\n",
       "  <tbody>\n",
       "    <tr>\n",
       "      <th>600</th>\n",
       "      <td>6016.9</td>\n",
       "      <td>6055.617151</td>\n",
       "    </tr>\n",
       "    <tr>\n",
       "      <th>601</th>\n",
       "      <td>6026.8</td>\n",
       "      <td>6051.724374</td>\n",
       "    </tr>\n",
       "    <tr>\n",
       "      <th>602</th>\n",
       "      <td>6024.8</td>\n",
       "      <td>6041.373862</td>\n",
       "    </tr>\n",
       "    <tr>\n",
       "      <th>603</th>\n",
       "      <td>6012.0</td>\n",
       "      <td>6026.972704</td>\n",
       "    </tr>\n",
       "    <tr>\n",
       "      <th>604</th>\n",
       "      <td>6028.4</td>\n",
       "      <td>6025.376037</td>\n",
       "    </tr>\n",
       "    <tr>\n",
       "      <th>605</th>\n",
       "      <td>6034.7</td>\n",
       "      <td>6025.583363</td>\n",
       "    </tr>\n",
       "    <tr>\n",
       "      <th>606</th>\n",
       "      <td>6080.8</td>\n",
       "      <td>6028.607796</td>\n",
       "    </tr>\n",
       "    <tr>\n",
       "      <th>607</th>\n",
       "      <td>6091.2</td>\n",
       "      <td>6054.283354</td>\n",
       "    </tr>\n",
       "    <tr>\n",
       "      <th>608</th>\n",
       "      <td>6097.1</td>\n",
       "      <td>6078.026776</td>\n",
       "    </tr>\n",
       "    <tr>\n",
       "      <th>609</th>\n",
       "      <td>6085.2</td>\n",
       "      <td>6101.695572</td>\n",
       "    </tr>\n",
       "    <tr>\n",
       "      <th>610</th>\n",
       "      <td>6082.7</td>\n",
       "      <td>6101.654198</td>\n",
       "    </tr>\n",
       "    <tr>\n",
       "      <th>611</th>\n",
       "      <td>6073.3</td>\n",
       "      <td>6096.840825</td>\n",
       "    </tr>\n",
       "    <tr>\n",
       "      <th>612</th>\n",
       "      <td>6112.1</td>\n",
       "      <td>6086.177293</td>\n",
       "    </tr>\n",
       "    <tr>\n",
       "      <th>613</th>\n",
       "      <td>6069.3</td>\n",
       "      <td>6094.194190</td>\n",
       "    </tr>\n",
       "    <tr>\n",
       "      <th>614</th>\n",
       "      <td>6084.6</td>\n",
       "      <td>6087.836249</td>\n",
       "    </tr>\n",
       "    <tr>\n",
       "      <th>615</th>\n",
       "      <td>6075.8</td>\n",
       "      <td>6090.999436</td>\n",
       "    </tr>\n",
       "    <tr>\n",
       "      <th>616</th>\n",
       "      <td>6046.6</td>\n",
       "      <td>6076.792541</td>\n",
       "    </tr>\n",
       "    <tr>\n",
       "      <th>617</th>\n",
       "      <td>6033.8</td>\n",
       "      <td>6068.988716</td>\n",
       "    </tr>\n",
       "    <tr>\n",
       "      <th>618</th>\n",
       "      <td>6021.6</td>\n",
       "      <td>6050.573575</td>\n",
       "    </tr>\n",
       "    <tr>\n",
       "      <th>619</th>\n",
       "      <td>6055.1</td>\n",
       "      <td>6030.823375</td>\n",
       "    </tr>\n",
       "    <tr>\n",
       "      <th>620</th>\n",
       "      <td>6047.7</td>\n",
       "      <td>6034.899535</td>\n",
       "    </tr>\n",
       "  </tbody>\n",
       "</table>\n",
       "</div>"
      ],
      "text/plain": [
       "      close    predicted\n",
       "600  6016.9  6055.617151\n",
       "601  6026.8  6051.724374\n",
       "602  6024.8  6041.373862\n",
       "603  6012.0  6026.972704\n",
       "604  6028.4  6025.376037\n",
       "605  6034.7  6025.583363\n",
       "606  6080.8  6028.607796\n",
       "607  6091.2  6054.283354\n",
       "608  6097.1  6078.026776\n",
       "609  6085.2  6101.695572\n",
       "610  6082.7  6101.654198\n",
       "611  6073.3  6096.840825\n",
       "612  6112.1  6086.177293\n",
       "613  6069.3  6094.194190\n",
       "614  6084.6  6087.836249\n",
       "615  6075.8  6090.999436\n",
       "616  6046.6  6076.792541\n",
       "617  6033.8  6068.988716\n",
       "618  6021.6  6050.573575\n",
       "619  6055.1  6030.823375\n",
       "620  6047.7  6034.899535"
      ]
     },
     "execution_count": 27,
     "metadata": {},
     "output_type": "execute_result"
    }
   ],
   "source": [
    "#View a spot check of actual vs predicted prices\n",
    "actual_vs_pred.loc[600:620]"
   ]
  },
  {
   "cell_type": "markdown",
   "metadata": {},
   "source": [
    "Despite the r2 value being in the realms of decency this may not be the best metric to evaluate at this stage. When looking at the spot check slice above we measure the following:\n",
    "\n",
    "1) When comparing \"previous actual close to predicted close\" direction to \"previous actual close to actual close\" direction: \\\n",
    "We get a score of 7/20 correct forecasts purely in terms of estimating the direction of the market\n",
    "\n",
    "2) When comparing \"previous predicted close to predicted close\" direction to \"previous actual close to actual close\" direction: \\\n",
    "We get a score of 12/20 correct forecasts purely in terms of estimating the direction of the market. "
   ]
  },
  {
   "cell_type": "code",
   "execution_count": null,
   "metadata": {},
   "outputs": [],
   "source": []
  }
 ],
 "metadata": {
  "kernelspec": {
   "display_name": "learn-env",
   "language": "python",
   "name": "learn-env"
  },
  "language_info": {
   "codemirror_mode": {
    "name": "ipython",
    "version": 3
   },
   "file_extension": ".py",
   "mimetype": "text/x-python",
   "name": "python",
   "nbconvert_exporter": "python",
   "pygments_lexer": "ipython3",
   "version": "3.6.6"
  }
 },
 "nbformat": 4,
 "nbformat_minor": 4
}
