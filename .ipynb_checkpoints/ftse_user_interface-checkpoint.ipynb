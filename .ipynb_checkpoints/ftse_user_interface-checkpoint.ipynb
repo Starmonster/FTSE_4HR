{
 "cells": [
  {
   "cell_type": "markdown",
   "metadata": {},
   "source": [
    "## FTSE 4hr backtest\n",
    "\n",
    "In this notebook we will create the user interface"
   ]
  },
  {
   "cell_type": "code",
   "execution_count": 8,
   "metadata": {},
   "outputs": [],
   "source": [
    "#### MOTHBALLED ####"
   ]
  },
  {
   "cell_type": "code",
   "execution_count": 1,
   "metadata": {},
   "outputs": [],
   "source": [
    "#import standard libraries\n",
    "import pandas as pd"
   ]
  },
  {
   "cell_type": "code",
   "execution_count": 2,
   "metadata": {},
   "outputs": [],
   "source": [
    "# #import our dynamic functions from local directory\n",
    "import ftse_functions\n",
    "from ftse_functions import outcome_gen, profit_gen"
   ]
  },
  {
   "cell_type": "code",
   "execution_count": 3,
   "metadata": {},
   "outputs": [],
   "source": [
    "df1 = pd.read_csv(\"ftse_static.csv\", parse_dates=[\"time\"])"
   ]
  },
  {
   "cell_type": "code",
   "execution_count": 4,
   "metadata": {},
   "outputs": [
    {
     "data": {
      "text/html": [
       "<div>\n",
       "<style scoped>\n",
       "    .dataframe tbody tr th:only-of-type {\n",
       "        vertical-align: middle;\n",
       "    }\n",
       "\n",
       "    .dataframe tbody tr th {\n",
       "        vertical-align: top;\n",
       "    }\n",
       "\n",
       "    .dataframe thead th {\n",
       "        text-align: right;\n",
       "    }\n",
       "</style>\n",
       "<table border=\"1\" class=\"dataframe\">\n",
       "  <thead>\n",
       "    <tr style=\"text-align: right;\">\n",
       "      <th></th>\n",
       "      <th>time</th>\n",
       "      <th>open</th>\n",
       "      <th>high</th>\n",
       "      <th>low</th>\n",
       "      <th>close</th>\n",
       "      <th>direction</th>\n",
       "      <th>signal</th>\n",
       "    </tr>\n",
       "  </thead>\n",
       "  <tbody>\n",
       "    <tr>\n",
       "      <th>0</th>\n",
       "      <td>2020-04-23 11:00:00</td>\n",
       "      <td>5770.0</td>\n",
       "      <td>5822.0</td>\n",
       "      <td>5755.6</td>\n",
       "      <td>5798.1</td>\n",
       "      <td>long</td>\n",
       "      <td>unknown</td>\n",
       "    </tr>\n",
       "    <tr>\n",
       "      <th>1</th>\n",
       "      <td>2020-04-23 15:00:00</td>\n",
       "      <td>5797.9</td>\n",
       "      <td>5847.9</td>\n",
       "      <td>5762.1</td>\n",
       "      <td>5773.2</td>\n",
       "      <td>short</td>\n",
       "      <td>trade</td>\n",
       "    </tr>\n",
       "    <tr>\n",
       "      <th>2</th>\n",
       "      <td>2020-04-23 19:00:00</td>\n",
       "      <td>5773.2</td>\n",
       "      <td>5796.8</td>\n",
       "      <td>5744.1</td>\n",
       "      <td>5769.5</td>\n",
       "      <td>short</td>\n",
       "      <td>no_trade</td>\n",
       "    </tr>\n",
       "    <tr>\n",
       "      <th>3</th>\n",
       "      <td>2020-04-23 23:00:00</td>\n",
       "      <td>5756.8</td>\n",
       "      <td>5770.2</td>\n",
       "      <td>5731.6</td>\n",
       "      <td>5740.2</td>\n",
       "      <td>short</td>\n",
       "      <td>no_trade</td>\n",
       "    </tr>\n",
       "    <tr>\n",
       "      <th>4</th>\n",
       "      <td>2020-04-24 03:00:00</td>\n",
       "      <td>5740.0</td>\n",
       "      <td>5755.0</td>\n",
       "      <td>5720.3</td>\n",
       "      <td>5744.3</td>\n",
       "      <td>long</td>\n",
       "      <td>trade</td>\n",
       "    </tr>\n",
       "  </tbody>\n",
       "</table>\n",
       "</div>"
      ],
      "text/plain": [
       "                 time    open    high     low   close direction    signal\n",
       "0 2020-04-23 11:00:00  5770.0  5822.0  5755.6  5798.1      long   unknown\n",
       "1 2020-04-23 15:00:00  5797.9  5847.9  5762.1  5773.2     short     trade\n",
       "2 2020-04-23 19:00:00  5773.2  5796.8  5744.1  5769.5     short  no_trade\n",
       "3 2020-04-23 23:00:00  5756.8  5770.2  5731.6  5740.2     short  no_trade\n",
       "4 2020-04-24 03:00:00  5740.0  5755.0  5720.3  5744.3      long     trade"
      ]
     },
     "execution_count": 4,
     "metadata": {},
     "output_type": "execute_result"
    }
   ],
   "source": [
    "df1.head()"
   ]
  },
  {
   "cell_type": "code",
   "execution_count": 5,
   "metadata": {},
   "outputs": [],
   "source": [
    "def new_dataset(df):\n",
    "    \n",
    "    \"\"\"\n",
    "    function to allow a dataframe to be called from within the user output function\n",
    "    \n",
    "    \"\"\"\n",
    "    \n",
    "    return df.head()"
   ]
  },
  {
   "cell_type": "code",
   "execution_count": 6,
   "metadata": {},
   "outputs": [],
   "source": [
    "# x=0\n",
    "# y=0"
   ]
  },
  {
   "cell_type": "code",
   "execution_count": 7,
   "metadata": {},
   "outputs": [
    {
     "name": "stdout",
     "output_type": "stream",
     "text": [
      "\n",
      "Has a double tap signal been recorded on the 4hr timeframe? y/n: \n",
      "y\n",
      "\n",
      "That's great! Let's see if you can make a profitable trade!!\n",
      "\n",
      "What is the trade direction, long or short?: 20\n",
      "\n",
      "Please type long or short depending on the trade signal\n",
      "\n",
      "Has a double tap signal been recorded on the 4hr timeframe? y/n: \n",
      "20\n",
      "Please enter only a 'y' or an 'n'\n",
      "\n",
      "Has a double tap signal been recorded on the 4hr timeframe? y/n: \n",
      "y\n",
      "\n",
      "That's great! Let's see if you can make a profitable trade!!\n",
      "\n",
      "What is the trade direction, long or short?: long\n",
      "\n",
      "What is your target value in points?: 20\n",
      "\n",
      "What is your maximum drawdown value?: 20\n"
     ]
    },
    {
     "ename": "TypeError",
     "evalue": "outcome_gen() takes 2 positional arguments but 4 were given",
     "output_type": "error",
     "traceback": [
      "\u001b[0;31m---------------------------------------------------------------------------\u001b[0m",
      "\u001b[0;31mTypeError\u001b[0m                                 Traceback (most recent call last)",
      "\u001b[0;32m<ipython-input-7-bc54b3852f35>\u001b[0m in \u001b[0;36m<module>\u001b[0;34m()\u001b[0m\n\u001b[1;32m    138\u001b[0m         \u001b[0;32mreturn\u001b[0m \u001b[0muser_interface\u001b[0m\u001b[0;34m(\u001b[0m\u001b[0;34m)\u001b[0m\u001b[0;34m\u001b[0m\u001b[0m\n\u001b[1;32m    139\u001b[0m \u001b[0;34m\u001b[0m\u001b[0m\n\u001b[0;32m--> 140\u001b[0;31m \u001b[0muser_interface\u001b[0m\u001b[0;34m(\u001b[0m\u001b[0;34m)\u001b[0m\u001b[0;34m\u001b[0m\u001b[0m\n\u001b[0m",
      "\u001b[0;32m<ipython-input-7-bc54b3852f35>\u001b[0m in \u001b[0;36muser_interface\u001b[0;34m()\u001b[0m\n\u001b[1;32m     26\u001b[0m         \u001b[0;32melse\u001b[0m\u001b[0;34m:\u001b[0m\u001b[0;34m\u001b[0m\u001b[0m\n\u001b[1;32m     27\u001b[0m             \u001b[0mprint\u001b[0m\u001b[0;34m(\u001b[0m\u001b[0;34m\"\\nPlease type long or short depending on the trade signal\"\u001b[0m\u001b[0;34m)\u001b[0m\u001b[0;34m\u001b[0m\u001b[0m\n\u001b[0;32m---> 28\u001b[0;31m             \u001b[0;32mreturn\u001b[0m \u001b[0muser_interface\u001b[0m\u001b[0;34m(\u001b[0m\u001b[0;34m)\u001b[0m\u001b[0;34m\u001b[0m\u001b[0m\n\u001b[0m\u001b[1;32m     29\u001b[0m \u001b[0;34m\u001b[0m\u001b[0m\n\u001b[1;32m     30\u001b[0m \u001b[0;34m\u001b[0m\u001b[0m\n",
      "\u001b[0;32m<ipython-input-7-bc54b3852f35>\u001b[0m in \u001b[0;36muser_interface\u001b[0;34m()\u001b[0m\n\u001b[1;32m    136\u001b[0m     \u001b[0;32melse\u001b[0m\u001b[0;34m:\u001b[0m\u001b[0;34m\u001b[0m\u001b[0m\n\u001b[1;32m    137\u001b[0m         \u001b[0mprint\u001b[0m\u001b[0;34m(\u001b[0m\u001b[0;34m\"Please enter only a 'y' or an 'n'\"\u001b[0m\u001b[0;34m)\u001b[0m\u001b[0;34m\u001b[0m\u001b[0m\n\u001b[0;32m--> 138\u001b[0;31m         \u001b[0;32mreturn\u001b[0m \u001b[0muser_interface\u001b[0m\u001b[0;34m(\u001b[0m\u001b[0;34m)\u001b[0m\u001b[0;34m\u001b[0m\u001b[0m\n\u001b[0m\u001b[1;32m    139\u001b[0m \u001b[0;34m\u001b[0m\u001b[0m\n\u001b[1;32m    140\u001b[0m \u001b[0muser_interface\u001b[0m\u001b[0;34m(\u001b[0m\u001b[0;34m)\u001b[0m\u001b[0;34m\u001b[0m\u001b[0m\n",
      "\u001b[0;32m<ipython-input-7-bc54b3852f35>\u001b[0m in \u001b[0;36muser_interface\u001b[0;34m()\u001b[0m\n\u001b[1;32m     66\u001b[0m \u001b[0;34m\u001b[0m\u001b[0m\n\u001b[1;32m     67\u001b[0m         \u001b[0;31m#Backtest the available data to generate a win / loss outcome featuere based on the user input\u001b[0m\u001b[0;34m\u001b[0m\u001b[0;34m\u001b[0m\u001b[0m\n\u001b[0;32m---> 68\u001b[0;31m         \u001b[0moutcomes\u001b[0m \u001b[0;34m=\u001b[0m \u001b[0mdf2\u001b[0m\u001b[0;34m.\u001b[0m\u001b[0mapply\u001b[0m\u001b[0;34m(\u001b[0m\u001b[0moutcome_gen\u001b[0m\u001b[0;34m,\u001b[0m \u001b[0margs\u001b[0m\u001b[0;34m=\u001b[0m\u001b[0;34m(\u001b[0m\u001b[0;34m[\u001b[0m\u001b[0mdf2\u001b[0m\u001b[0;34m,\u001b[0m \u001b[0mtarget\u001b[0m\u001b[0;34m,\u001b[0m \u001b[0mdrawdown\u001b[0m\u001b[0;34m]\u001b[0m\u001b[0;34m)\u001b[0m\u001b[0;34m,\u001b[0m \u001b[0maxis\u001b[0m\u001b[0;34m=\u001b[0m\u001b[0;34m'columns'\u001b[0m\u001b[0;34m)\u001b[0m\u001b[0;34m.\u001b[0m\u001b[0mto_frame\u001b[0m\u001b[0;34m(\u001b[0m\u001b[0;34m)\u001b[0m\u001b[0;34m\u001b[0m\u001b[0m\n\u001b[0m\u001b[1;32m     69\u001b[0m         \u001b[0;31m#join the new dataframe to the end of our central dataframe\u001b[0m\u001b[0;34m\u001b[0m\u001b[0;34m\u001b[0m\u001b[0m\n\u001b[1;32m     70\u001b[0m         \u001b[0mdf2\u001b[0m\u001b[0;34m=\u001b[0m\u001b[0mdf2\u001b[0m\u001b[0;34m.\u001b[0m\u001b[0mjoin\u001b[0m\u001b[0;34m(\u001b[0m\u001b[0moutcomes\u001b[0m\u001b[0;34m)\u001b[0m\u001b[0;34m\u001b[0m\u001b[0m\n",
      "\u001b[0;32m/opt/anaconda3/envs/learn-env/lib/python3.6/site-packages/pandas/core/frame.py\u001b[0m in \u001b[0;36mapply\u001b[0;34m(self, func, axis, raw, result_type, args, **kwds)\u001b[0m\n\u001b[1;32m   6876\u001b[0m             \u001b[0mkwds\u001b[0m\u001b[0;34m=\u001b[0m\u001b[0mkwds\u001b[0m\u001b[0;34m,\u001b[0m\u001b[0;34m\u001b[0m\u001b[0m\n\u001b[1;32m   6877\u001b[0m         )\n\u001b[0;32m-> 6878\u001b[0;31m         \u001b[0;32mreturn\u001b[0m \u001b[0mop\u001b[0m\u001b[0;34m.\u001b[0m\u001b[0mget_result\u001b[0m\u001b[0;34m(\u001b[0m\u001b[0;34m)\u001b[0m\u001b[0;34m\u001b[0m\u001b[0m\n\u001b[0m\u001b[1;32m   6879\u001b[0m \u001b[0;34m\u001b[0m\u001b[0m\n\u001b[1;32m   6880\u001b[0m     \u001b[0;32mdef\u001b[0m \u001b[0mapplymap\u001b[0m\u001b[0;34m(\u001b[0m\u001b[0mself\u001b[0m\u001b[0;34m,\u001b[0m \u001b[0mfunc\u001b[0m\u001b[0;34m)\u001b[0m \u001b[0;34m->\u001b[0m \u001b[0;34m\"DataFrame\"\u001b[0m\u001b[0;34m:\u001b[0m\u001b[0;34m\u001b[0m\u001b[0m\n",
      "\u001b[0;32m/opt/anaconda3/envs/learn-env/lib/python3.6/site-packages/pandas/core/apply.py\u001b[0m in \u001b[0;36mget_result\u001b[0;34m(self)\u001b[0m\n\u001b[1;32m    184\u001b[0m             \u001b[0;32mreturn\u001b[0m \u001b[0mself\u001b[0m\u001b[0;34m.\u001b[0m\u001b[0mapply_raw\u001b[0m\u001b[0;34m(\u001b[0m\u001b[0;34m)\u001b[0m\u001b[0;34m\u001b[0m\u001b[0m\n\u001b[1;32m    185\u001b[0m \u001b[0;34m\u001b[0m\u001b[0m\n\u001b[0;32m--> 186\u001b[0;31m         \u001b[0;32mreturn\u001b[0m \u001b[0mself\u001b[0m\u001b[0;34m.\u001b[0m\u001b[0mapply_standard\u001b[0m\u001b[0;34m(\u001b[0m\u001b[0;34m)\u001b[0m\u001b[0;34m\u001b[0m\u001b[0m\n\u001b[0m\u001b[1;32m    187\u001b[0m \u001b[0;34m\u001b[0m\u001b[0m\n\u001b[1;32m    188\u001b[0m     \u001b[0;32mdef\u001b[0m \u001b[0mapply_empty_result\u001b[0m\u001b[0;34m(\u001b[0m\u001b[0mself\u001b[0m\u001b[0;34m)\u001b[0m\u001b[0;34m:\u001b[0m\u001b[0;34m\u001b[0m\u001b[0m\n",
      "\u001b[0;32m/opt/anaconda3/envs/learn-env/lib/python3.6/site-packages/pandas/core/apply.py\u001b[0m in \u001b[0;36mapply_standard\u001b[0;34m(self)\u001b[0m\n\u001b[1;32m    294\u001b[0m             \u001b[0;32mtry\u001b[0m\u001b[0;34m:\u001b[0m\u001b[0;34m\u001b[0m\u001b[0m\n\u001b[1;32m    295\u001b[0m                 result = libreduction.compute_reduction(\n\u001b[0;32m--> 296\u001b[0;31m                     \u001b[0mvalues\u001b[0m\u001b[0;34m,\u001b[0m \u001b[0mself\u001b[0m\u001b[0;34m.\u001b[0m\u001b[0mf\u001b[0m\u001b[0;34m,\u001b[0m \u001b[0maxis\u001b[0m\u001b[0;34m=\u001b[0m\u001b[0mself\u001b[0m\u001b[0;34m.\u001b[0m\u001b[0maxis\u001b[0m\u001b[0;34m,\u001b[0m \u001b[0mdummy\u001b[0m\u001b[0;34m=\u001b[0m\u001b[0mdummy\u001b[0m\u001b[0;34m,\u001b[0m \u001b[0mlabels\u001b[0m\u001b[0;34m=\u001b[0m\u001b[0mlabels\u001b[0m\u001b[0;34m\u001b[0m\u001b[0m\n\u001b[0m\u001b[1;32m    297\u001b[0m                 )\n\u001b[1;32m    298\u001b[0m             \u001b[0;32mexcept\u001b[0m \u001b[0mValueError\u001b[0m \u001b[0;32mas\u001b[0m \u001b[0merr\u001b[0m\u001b[0;34m:\u001b[0m\u001b[0;34m\u001b[0m\u001b[0m\n",
      "\u001b[0;32mpandas/_libs/reduction.pyx\u001b[0m in \u001b[0;36mpandas._libs.reduction.compute_reduction\u001b[0;34m()\u001b[0m\n",
      "\u001b[0;32mpandas/_libs/reduction.pyx\u001b[0m in \u001b[0;36mpandas._libs.reduction.Reducer.get_result\u001b[0;34m()\u001b[0m\n",
      "\u001b[0;32m/opt/anaconda3/envs/learn-env/lib/python3.6/site-packages/pandas/core/apply.py\u001b[0m in \u001b[0;36mf\u001b[0;34m(x)\u001b[0m\n\u001b[1;32m    111\u001b[0m \u001b[0;34m\u001b[0m\u001b[0m\n\u001b[1;32m    112\u001b[0m             \u001b[0;32mdef\u001b[0m \u001b[0mf\u001b[0m\u001b[0;34m(\u001b[0m\u001b[0mx\u001b[0m\u001b[0;34m)\u001b[0m\u001b[0;34m:\u001b[0m\u001b[0;34m\u001b[0m\u001b[0m\n\u001b[0;32m--> 113\u001b[0;31m                 \u001b[0;32mreturn\u001b[0m \u001b[0mfunc\u001b[0m\u001b[0;34m(\u001b[0m\u001b[0mx\u001b[0m\u001b[0;34m,\u001b[0m \u001b[0;34m*\u001b[0m\u001b[0margs\u001b[0m\u001b[0;34m,\u001b[0m \u001b[0;34m**\u001b[0m\u001b[0mkwds\u001b[0m\u001b[0;34m)\u001b[0m\u001b[0;34m\u001b[0m\u001b[0m\n\u001b[0m\u001b[1;32m    114\u001b[0m \u001b[0;34m\u001b[0m\u001b[0m\n\u001b[1;32m    115\u001b[0m         \u001b[0;32melse\u001b[0m\u001b[0;34m:\u001b[0m\u001b[0;34m\u001b[0m\u001b[0m\n",
      "\u001b[0;31mTypeError\u001b[0m: outcome_gen() takes 2 positional arguments but 4 were given"
     ]
    }
   ],
   "source": [
    "#import our dynamic functions from local directory\n",
    "# import ftse_functions\n",
    "# from ftse_functions import outcome_generator, direction_calc, dataframe, profit_calc\n",
    "\n",
    "df2=df1\n",
    "def user_interface():\n",
    "    \"\"\"\n",
    "    A function to create a user interface\n",
    "    \n",
    "    \"\"\"\n",
    "    \n",
    "    global df2\n",
    "   \n",
    "    \n",
    "    \n",
    "    #A user input to confirm if a trade signal has been printed\n",
    "    signal = input(\"\\nHas a double tap signal been recorded on the 4hr timeframe? y/n: \\n\")\n",
    "    \n",
    "    #Conditional statements fed by the signal input\n",
    "    if signal == 'y':\n",
    "        print(\"\\nThat's great! Let's see if you can make a profitable trade!!\\n\")\n",
    "        direction = input(\"What is the trade direction, long or short?: \")\n",
    "        \n",
    "        if direction.lower() == \"long\" or direction.lower() == \"short\":\n",
    "            None\n",
    "        else:\n",
    "            print(\"\\nPlease type long or short depending on the trade signal\")\n",
    "            return user_interface()\n",
    "       \n",
    "        \n",
    "        #Ask the user what there proposed trade target value is?\n",
    "        target = input(\"\\nWhat is your target value in points?: \")\n",
    "        try: \n",
    "            target = int(target)\n",
    "        except ValueError:\n",
    "            print(\"I need a number greater than 0\")\n",
    "            return user_interface()\n",
    "        \n",
    "        #Set the features to be used via conditional stamements fed by the input target value\n",
    "#         tp = ''\n",
    "#         dd = ''\n",
    "#         out_type = ''\n",
    "#         if target == 10:\n",
    "#             tp = \"ten_profit\"\n",
    "#             dd = \"draw_ten\"\n",
    "#             out_type = \"ten_outcome\"\n",
    "#         elif target == 20:\n",
    "#             tp = \"twenty_profit\"\n",
    "#             dd = \"draw_twenty\"\n",
    "#             out_type = \"twenty_outcome\"\n",
    "#         elif target == 40:\n",
    "#             tp = \"forty_profit\"\n",
    "#             dd = \"draw_forty\"\n",
    "#             out_type = \"forty_outcome\"\n",
    "#         else:\n",
    "#             print(\"You have entered an invalid number please type 10, 20 or 40\")\n",
    "#             return user_interface()\n",
    "        \n",
    "        #Ask the user what their required max drawdown (stop-loss) is\n",
    "        drawdown = input(\"\\nWhat is your maximum drawdown value?: \")\n",
    "        try: \n",
    "            drawdown = int(drawdown)\n",
    "        except ValueError:\n",
    "            print(\"I need a number greater than 0\")\n",
    "            return user_interface()\n",
    "        \n",
    "        #Backtest the available data to generate a win / loss outcome featuere based on the user input\n",
    "        outcomes = df2.apply(outcome_gen, args=([df2, target, drawdown]), axis='columns').to_frame()\n",
    "        #join the new dataframe to the end of our central dataframe\n",
    "        df2=df2.join(outcomes)\n",
    "        #give the new feature a descriptive header\n",
    "        df2.rename(columns={0:\"outcome\"}, inplace=True)\n",
    "        \n",
    "        #call the new dataframe from our earlier function\n",
    "        \n",
    "        \n",
    "        \n",
    "        \n",
    "        #Backtest the available data to generate a net profit feature based on the user input\n",
    "        #pass the new feature to a new dataframe\n",
    "        result = df2.apply(profit_calc, args=([df2, target, drawdown]), axis='columns').to_frame()\n",
    "        #join the new dataframe to the end of our central dataframe\n",
    "        df2=df2.join(result)\n",
    "        #give the new feature a descriptive header\n",
    "        df2.rename(columns={0:\"profit\"}, inplace=True)\n",
    "        \n",
    "#         new_dataset(df1)\n",
    "        \n",
    "        \n",
    "        \n",
    "        \n",
    "        #Ask the user what trade size they would like?\n",
    "        size = input(\"\\nWhat is your trade size: \")\n",
    "        try: \n",
    "            size = int(size)\n",
    "        except ValueError:\n",
    "            print(\"I need a number greater than 0\")\n",
    "            return user_interface()\n",
    "        \n",
    "        \n",
    "        #Filter for wins and losses using the inputted values\n",
    "        win_filter = df2[df2.outcome==\"win\"].profit\n",
    "        loss_filter = df2[df2.outcome==\"loss\"].profit\n",
    "        \n",
    "        \n",
    "        #store a win average\n",
    "        win_ave = win_filter.mean()\n",
    "        \n",
    "        #store a loss average for losses below the drawdown\n",
    "        loss_ave = loss_filter.mean()\n",
    "        \n",
    "        #store a win count\n",
    "        win_count = win_filter.shape[0]\n",
    "        \n",
    "        #store a loss count for losses below the drawdown\n",
    "        loss_count = loss_filter.shape[0]\n",
    "        \n",
    "        #store a total number of trades\n",
    "        trade_count = win_count + loss_count\n",
    "        \n",
    "        #Calculate and store the average returns based on the user requirements\n",
    "        ave_return = (((win_ave*win_count) + (loss_ave*loss_count)) / trade_count)*size\n",
    "        \n",
    "        \n",
    "        #Create the main return output for user consideration\n",
    "        return f\"Across {trade_count} total trades there are {win_count} winning trades at an average of \\\n",
    "{round(win_ave)} points per winning trade. There are {loss_count} losing trades at an average loss \\\n",
    "of {round(loss_ave)} points. For a trade size of {size } the average trade return is {round(ave_return)}\"\n",
    "        \n",
    "        \n",
    "    \n",
    "    #Close off residual responses to non trade inputs\n",
    "    elif signal == \"n\":\n",
    "        print(\"\\nWithout a valid trade signal we can't calculate a potential profit!\")\n",
    "        print(\"please wait for a valid trade signal\")\n",
    "        return user_interface()\n",
    "    \n",
    "    else:\n",
    "        print(\"Please enter only a 'y' or an 'n'\")\n",
    "        return user_interface()\n",
    "        \n",
    "user_interface()             "
   ]
  },
  {
   "cell_type": "code",
   "execution_count": null,
   "metadata": {},
   "outputs": [],
   "source": [
    "df2.head(10)"
   ]
  },
  {
   "cell_type": "code",
   "execution_count": null,
   "metadata": {},
   "outputs": [],
   "source": [
    "#give our arguments some values\n",
    "profit = 25\n",
    "stoploss = 17\n",
    "\n",
    "\n",
    "#pass the trade outcomes to a new dataframe\n",
    "outcomes = df1.apply(outcome_generator, args=([df1, profit, stoploss]), axis='columns').to_frame()\n",
    "\n",
    "#join the new dataframe to the end of our central dataframe\n",
    "df1=df1.join(outcomes)\n",
    "\n",
    "#give the new feature a descriptive header\n",
    "df1.rename(columns={0:\"outcome\"}, inplace=True)"
   ]
  },
  {
   "cell_type": "code",
   "execution_count": null,
   "metadata": {},
   "outputs": [],
   "source": [
    "df1.head()"
   ]
  },
  {
   "cell_type": "code",
   "execution_count": null,
   "metadata": {},
   "outputs": [],
   "source": [
    "#from ftse_functions import profit_calc"
   ]
  },
  {
   "cell_type": "code",
   "execution_count": null,
   "metadata": {
    "scrolled": true
   },
   "outputs": [],
   "source": [
    "\n",
    "\n",
    "#pass the trade outcomes to a new dataframe\n",
    "result = df1.apply(profit_calc, args=([df1, profit, stoploss]), axis='columns').to_frame()\n",
    "\n",
    "#join the new dataframe to the end of our central dataframe\n",
    "df1=df1.join(result)\n",
    "\n",
    "#give the new feature a descriptive header\n",
    "df1.rename(columns={0:\"profit\"}, inplace=True)\n",
    "\n",
    "#Review the head of the revised dataframe\n",
    "#df.head(3)"
   ]
  },
  {
   "cell_type": "code",
   "execution_count": null,
   "metadata": {},
   "outputs": [],
   "source": [
    "df1.head()"
   ]
  },
  {
   "cell_type": "code",
   "execution_count": null,
   "metadata": {},
   "outputs": [],
   "source": [
    "df1[df1.outcome==\"loss\"].profit.sum()"
   ]
  },
  {
   "cell_type": "code",
   "execution_count": null,
   "metadata": {},
   "outputs": [],
   "source": [
    "df1[df1.outcome==\"win\"].profit.sum()"
   ]
  },
  {
   "cell_type": "code",
   "execution_count": null,
   "metadata": {},
   "outputs": [],
   "source": [
    "win_ave = df1[df1.outcome==\"win\"].profit.mean()\n",
    "win_total = df1[df1.outcome==\"win\"].profit.sum()\n",
    "\n",
    "loss_ave = df1[df1.outcome==\"loss\"].profit.mean()\n",
    "loss_total = df1[df1.outcome==\"loss\"].profit.sum()\n",
    "\n",
    "trade_count = df1[(df1.outcome==\"win\") | (df1.outcome==\"loss\")].shape[0]\n",
    "win_count = df1[df1.outcome==\"win\"].shape[0]\n",
    "loss_count = df1[df1.outcome==\"loss\"].shape[0]\n",
    "\n",
    "ave_return = ((win_ave*win_count) + (loss_ave*loss_count)) / trade_count"
   ]
  },
  {
   "cell_type": "code",
   "execution_count": null,
   "metadata": {},
   "outputs": [],
   "source": [
    "print(f\"Across {trade_count} total trades there are {win_count} winning trades at an average of {win_ave} points per \\\n",
    "winning trade. There are {loss_count} losing trdaes at an average loss of {loss_ave} points. For a trade size of \\\n",
    "the average trade return is {ave_return}\")"
   ]
  },
  {
   "cell_type": "code",
   "execution_count": null,
   "metadata": {},
   "outputs": [],
   "source": []
  },
  {
   "cell_type": "code",
   "execution_count": null,
   "metadata": {},
   "outputs": [],
   "source": []
  }
 ],
 "metadata": {
  "kernelspec": {
   "display_name": "learn-env",
   "language": "python",
   "name": "learn-env"
  },
  "language_info": {
   "codemirror_mode": {
    "name": "ipython",
    "version": 3
   },
   "file_extension": ".py",
   "mimetype": "text/x-python",
   "name": "python",
   "nbconvert_exporter": "python",
   "pygments_lexer": "ipython3",
   "version": "3.6.6"
  }
 },
 "nbformat": 4,
 "nbformat_minor": 4
}
